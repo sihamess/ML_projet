{
  "nbformat": 4,
  "nbformat_minor": 5,
  "metadata": {
    "kernelspec": {
      "display_name": "Python 3",
      "language": "python",
      "name": "python3"
    },
    "language_info": {
      "codemirror_mode": {
        "name": "ipython",
        "version": 3
      },
      "file_extension": ".py",
      "mimetype": "text/x-python",
      "name": "python",
      "nbconvert_exporter": "python",
      "pygments_lexer": "ipython3",
      "version": "3.8.2"
    },
    "colab": {
      "name": "1. Simple Linear Regression.ipynb",
      "provenance": []
    }
  },
  "cells": [
    {
      "cell_type": "markdown",
      "metadata": {
        "id": "4f19f18f"
      },
      "source": [
        "# Simple Linear Regression (Gapminder Project)\n",
        "\n",
        "In this project you are going to work with __gapminder__ dataset, which tracks economic and social indicators like population, life expectancy and the GDP per capita of countries over time. For more information about Gapminder, visit the this [link](https://www.gapminder.org/data/)\n",
        "\n",
        "This is a guided project, which I will guide you through to proceed with this small project. I believe this method will prepare you for your own future projects.\n",
        "\n",
        "In order to do this project, you may need to refer to this [tutorial](https://github.com/DrSaadLa/PythonTuts/blob/main/ML%20with%20Python/02.01.%20Linear%20Regression%20with%20Python%20(Part%2001)%20Solution.ipynb)"
      ],
      "id": "4f19f18f"
    },
    {
      "cell_type": "markdown",
      "metadata": {
        "id": "beb6311b"
      },
      "source": [
        "### Import Necessary Modules\n",
        "1. import pandas\n",
        "2. import numpy \n",
        "3. import seaborn\n",
        "4. import matplotlib.pyplot"
      ],
      "id": "beb6311b"
    },
    {
      "cell_type": "code",
      "metadata": {
        "id": "e7069e6b"
      },
      "source": [
        "import pandas as pd\n",
        "import numpy as np \n",
        "import seaborn as sns\n",
        "import matplotlib.pyplot as plt \n",
        "%matplotlib inline \n"
      ],
      "id": "e7069e6b",
      "execution_count": 15,
      "outputs": []
    },
    {
      "cell_type": "markdown",
      "metadata": {
        "id": "a4f78b6e"
      },
      "source": [
        "### Import the dataset\n",
        "\n",
        "the dataset can be downloaded from [here](https://raw.githubusercontent.com/DrSaadLa/PythonTuts/main/Data/gapminder.csv). \n"
      ],
      "id": "a4f78b6e"
    },
    {
      "cell_type": "code",
      "metadata": {
        "id": "9050107b"
      },
      "source": [
        "# Here is the url provided for you\n",
        "url = \"https://raw.githubusercontent.com/DrSaadLa/PythonTuts/main/Data/gapminder.csv\""
      ],
      "id": "9050107b",
      "execution_count": 16,
      "outputs": []
    },
    {
      "cell_type": "code",
      "metadata": {
        "id": "a603628c"
      },
      "source": [
        "# use pd.read_csv() to import the data\n",
        "df=pd.read_csv(url)"
      ],
      "id": "a603628c",
      "execution_count": 17,
      "outputs": []
    },
    {
      "cell_type": "code",
      "metadata": {
        "colab": {
          "base_uri": "https://localhost:8080/",
          "height": 204
        },
        "id": "a434dce8",
        "outputId": "0a3ce148-45ac-495f-ee61-65cb32919ffc"
      },
      "source": [
        "df.head()"
      ],
      "id": "a434dce8",
      "execution_count": 18,
      "outputs": [
        {
          "output_type": "execute_result",
          "data": {
            "text/html": [
              "<div>\n",
              "<style scoped>\n",
              "    .dataframe tbody tr th:only-of-type {\n",
              "        vertical-align: middle;\n",
              "    }\n",
              "\n",
              "    .dataframe tbody tr th {\n",
              "        vertical-align: top;\n",
              "    }\n",
              "\n",
              "    .dataframe thead th {\n",
              "        text-align: right;\n",
              "    }\n",
              "</style>\n",
              "<table border=\"1\" class=\"dataframe\">\n",
              "  <thead>\n",
              "    <tr style=\"text-align: right;\">\n",
              "      <th></th>\n",
              "      <th>population</th>\n",
              "      <th>fertility</th>\n",
              "      <th>HIV</th>\n",
              "      <th>CO2</th>\n",
              "      <th>BMI_male</th>\n",
              "      <th>GDP</th>\n",
              "      <th>BMI_female</th>\n",
              "      <th>life</th>\n",
              "      <th>child_mortality</th>\n",
              "      <th>Region</th>\n",
              "    </tr>\n",
              "  </thead>\n",
              "  <tbody>\n",
              "    <tr>\n",
              "      <th>0</th>\n",
              "      <td>34811059.0</td>\n",
              "      <td>2.73</td>\n",
              "      <td>0.1</td>\n",
              "      <td>3.328945</td>\n",
              "      <td>24.59620</td>\n",
              "      <td>12314.0</td>\n",
              "      <td>129.9049</td>\n",
              "      <td>75.3</td>\n",
              "      <td>29.5</td>\n",
              "      <td>Middle East &amp; North Africa</td>\n",
              "    </tr>\n",
              "    <tr>\n",
              "      <th>1</th>\n",
              "      <td>19842251.0</td>\n",
              "      <td>6.43</td>\n",
              "      <td>2.0</td>\n",
              "      <td>1.474353</td>\n",
              "      <td>22.25083</td>\n",
              "      <td>7103.0</td>\n",
              "      <td>130.1247</td>\n",
              "      <td>58.3</td>\n",
              "      <td>192.0</td>\n",
              "      <td>Sub-Saharan Africa</td>\n",
              "    </tr>\n",
              "    <tr>\n",
              "      <th>2</th>\n",
              "      <td>40381860.0</td>\n",
              "      <td>2.24</td>\n",
              "      <td>0.5</td>\n",
              "      <td>4.785170</td>\n",
              "      <td>27.50170</td>\n",
              "      <td>14646.0</td>\n",
              "      <td>118.8915</td>\n",
              "      <td>75.5</td>\n",
              "      <td>15.4</td>\n",
              "      <td>America</td>\n",
              "    </tr>\n",
              "    <tr>\n",
              "      <th>3</th>\n",
              "      <td>2975029.0</td>\n",
              "      <td>1.40</td>\n",
              "      <td>0.1</td>\n",
              "      <td>1.804106</td>\n",
              "      <td>25.35542</td>\n",
              "      <td>7383.0</td>\n",
              "      <td>132.8108</td>\n",
              "      <td>72.5</td>\n",
              "      <td>20.0</td>\n",
              "      <td>Europe &amp; Central Asia</td>\n",
              "    </tr>\n",
              "    <tr>\n",
              "      <th>4</th>\n",
              "      <td>21370348.0</td>\n",
              "      <td>1.96</td>\n",
              "      <td>0.1</td>\n",
              "      <td>18.016313</td>\n",
              "      <td>27.56373</td>\n",
              "      <td>41312.0</td>\n",
              "      <td>117.3755</td>\n",
              "      <td>81.5</td>\n",
              "      <td>5.2</td>\n",
              "      <td>East Asia &amp; Pacific</td>\n",
              "    </tr>\n",
              "  </tbody>\n",
              "</table>\n",
              "</div>"
            ],
            "text/plain": [
              "   population  fertility  ...  child_mortality                      Region\n",
              "0  34811059.0       2.73  ...             29.5  Middle East & North Africa\n",
              "1  19842251.0       6.43  ...            192.0          Sub-Saharan Africa\n",
              "2  40381860.0       2.24  ...             15.4                     America\n",
              "3   2975029.0       1.40  ...             20.0       Europe & Central Asia\n",
              "4  21370348.0       1.96  ...              5.2         East Asia & Pacific\n",
              "\n",
              "[5 rows x 10 columns]"
            ]
          },
          "metadata": {},
          "execution_count": 18
        }
      ]
    },
    {
      "cell_type": "code",
      "metadata": {
        "colab": {
          "base_uri": "https://localhost:8080/",
          "height": 204
        },
        "id": "3033f465",
        "outputId": "4c62be90-4358-451e-c4e8-6a7885b66385"
      },
      "source": [
        "# Check the last few obs\n",
        "df.tail()"
      ],
      "id": "3033f465",
      "execution_count": 19,
      "outputs": [
        {
          "output_type": "execute_result",
          "data": {
            "text/html": [
              "<div>\n",
              "<style scoped>\n",
              "    .dataframe tbody tr th:only-of-type {\n",
              "        vertical-align: middle;\n",
              "    }\n",
              "\n",
              "    .dataframe tbody tr th {\n",
              "        vertical-align: top;\n",
              "    }\n",
              "\n",
              "    .dataframe thead th {\n",
              "        text-align: right;\n",
              "    }\n",
              "</style>\n",
              "<table border=\"1\" class=\"dataframe\">\n",
              "  <thead>\n",
              "    <tr style=\"text-align: right;\">\n",
              "      <th></th>\n",
              "      <th>population</th>\n",
              "      <th>fertility</th>\n",
              "      <th>HIV</th>\n",
              "      <th>CO2</th>\n",
              "      <th>BMI_male</th>\n",
              "      <th>GDP</th>\n",
              "      <th>BMI_female</th>\n",
              "      <th>life</th>\n",
              "      <th>child_mortality</th>\n",
              "      <th>Region</th>\n",
              "    </tr>\n",
              "  </thead>\n",
              "  <tbody>\n",
              "    <tr>\n",
              "      <th>134</th>\n",
              "      <td>3350832.0</td>\n",
              "      <td>2.11</td>\n",
              "      <td>0.5</td>\n",
              "      <td>2.489764</td>\n",
              "      <td>26.39123</td>\n",
              "      <td>15317.0</td>\n",
              "      <td>124.2604</td>\n",
              "      <td>76.0</td>\n",
              "      <td>13.0</td>\n",
              "      <td>America</td>\n",
              "    </tr>\n",
              "    <tr>\n",
              "      <th>135</th>\n",
              "      <td>26952719.0</td>\n",
              "      <td>2.46</td>\n",
              "      <td>0.1</td>\n",
              "      <td>4.476669</td>\n",
              "      <td>25.32054</td>\n",
              "      <td>3733.0</td>\n",
              "      <td>124.3462</td>\n",
              "      <td>68.7</td>\n",
              "      <td>49.2</td>\n",
              "      <td>Europe &amp; Central Asia</td>\n",
              "    </tr>\n",
              "    <tr>\n",
              "      <th>136</th>\n",
              "      <td>86589342.0</td>\n",
              "      <td>1.86</td>\n",
              "      <td>0.4</td>\n",
              "      <td>1.479347</td>\n",
              "      <td>20.91630</td>\n",
              "      <td>4085.0</td>\n",
              "      <td>121.9367</td>\n",
              "      <td>75.4</td>\n",
              "      <td>26.2</td>\n",
              "      <td>East Asia &amp; Pacific</td>\n",
              "    </tr>\n",
              "    <tr>\n",
              "      <th>137</th>\n",
              "      <td>13114579.0</td>\n",
              "      <td>5.88</td>\n",
              "      <td>13.6</td>\n",
              "      <td>0.148982</td>\n",
              "      <td>20.68321</td>\n",
              "      <td>3039.0</td>\n",
              "      <td>132.4493</td>\n",
              "      <td>52.0</td>\n",
              "      <td>94.9</td>\n",
              "      <td>Sub-Saharan Africa</td>\n",
              "    </tr>\n",
              "    <tr>\n",
              "      <th>138</th>\n",
              "      <td>13495462.0</td>\n",
              "      <td>3.85</td>\n",
              "      <td>15.1</td>\n",
              "      <td>0.654323</td>\n",
              "      <td>22.02660</td>\n",
              "      <td>1286.0</td>\n",
              "      <td>131.9745</td>\n",
              "      <td>49.0</td>\n",
              "      <td>98.3</td>\n",
              "      <td>Sub-Saharan Africa</td>\n",
              "    </tr>\n",
              "  </tbody>\n",
              "</table>\n",
              "</div>"
            ],
            "text/plain": [
              "     population  fertility   HIV  ...  life  child_mortality                 Region\n",
              "134   3350832.0       2.11   0.5  ...  76.0             13.0                America\n",
              "135  26952719.0       2.46   0.1  ...  68.7             49.2  Europe & Central Asia\n",
              "136  86589342.0       1.86   0.4  ...  75.4             26.2    East Asia & Pacific\n",
              "137  13114579.0       5.88  13.6  ...  52.0             94.9     Sub-Saharan Africa\n",
              "138  13495462.0       3.85  15.1  ...  49.0             98.3     Sub-Saharan Africa\n",
              "\n",
              "[5 rows x 10 columns]"
            ]
          },
          "metadata": {},
          "execution_count": 19
        }
      ]
    },
    {
      "cell_type": "code",
      "metadata": {
        "colab": {
          "base_uri": "https://localhost:8080/"
        },
        "id": "a0eea341",
        "outputId": "f68a5222-859b-4de5-f273-c1fbc5c097c1"
      },
      "source": [
        "# check the data information\n",
        "df.info()"
      ],
      "id": "a0eea341",
      "execution_count": 20,
      "outputs": [
        {
          "output_type": "stream",
          "name": "stdout",
          "text": [
            "<class 'pandas.core.frame.DataFrame'>\n",
            "RangeIndex: 139 entries, 0 to 138\n",
            "Data columns (total 10 columns):\n",
            " #   Column           Non-Null Count  Dtype  \n",
            "---  ------           --------------  -----  \n",
            " 0   population       139 non-null    float64\n",
            " 1   fertility        139 non-null    float64\n",
            " 2   HIV              139 non-null    float64\n",
            " 3   CO2              139 non-null    float64\n",
            " 4   BMI_male         139 non-null    float64\n",
            " 5   GDP              139 non-null    float64\n",
            " 6   BMI_female       139 non-null    float64\n",
            " 7   life             139 non-null    float64\n",
            " 8   child_mortality  139 non-null    float64\n",
            " 9   Region           139 non-null    object \n",
            "dtypes: float64(9), object(1)\n",
            "memory usage: 11.0+ KB\n"
          ]
        }
      ]
    },
    {
      "cell_type": "code",
      "metadata": {
        "colab": {
          "base_uri": "https://localhost:8080/",
          "height": 297
        },
        "id": "2e411e19",
        "outputId": "bcd50221-3add-431e-b99a-dc80850e4c78"
      },
      "source": [
        "# Run desriptive statistics\n",
        "df.describe()"
      ],
      "id": "2e411e19",
      "execution_count": 21,
      "outputs": [
        {
          "output_type": "execute_result",
          "data": {
            "text/html": [
              "<div>\n",
              "<style scoped>\n",
              "    .dataframe tbody tr th:only-of-type {\n",
              "        vertical-align: middle;\n",
              "    }\n",
              "\n",
              "    .dataframe tbody tr th {\n",
              "        vertical-align: top;\n",
              "    }\n",
              "\n",
              "    .dataframe thead th {\n",
              "        text-align: right;\n",
              "    }\n",
              "</style>\n",
              "<table border=\"1\" class=\"dataframe\">\n",
              "  <thead>\n",
              "    <tr style=\"text-align: right;\">\n",
              "      <th></th>\n",
              "      <th>population</th>\n",
              "      <th>fertility</th>\n",
              "      <th>HIV</th>\n",
              "      <th>CO2</th>\n",
              "      <th>BMI_male</th>\n",
              "      <th>GDP</th>\n",
              "      <th>BMI_female</th>\n",
              "      <th>life</th>\n",
              "      <th>child_mortality</th>\n",
              "    </tr>\n",
              "  </thead>\n",
              "  <tbody>\n",
              "    <tr>\n",
              "      <th>count</th>\n",
              "      <td>1.390000e+02</td>\n",
              "      <td>139.000000</td>\n",
              "      <td>139.000000</td>\n",
              "      <td>139.000000</td>\n",
              "      <td>139.000000</td>\n",
              "      <td>139.000000</td>\n",
              "      <td>139.000000</td>\n",
              "      <td>139.000000</td>\n",
              "      <td>139.000000</td>\n",
              "    </tr>\n",
              "    <tr>\n",
              "      <th>mean</th>\n",
              "      <td>3.549977e+07</td>\n",
              "      <td>3.005108</td>\n",
              "      <td>1.915612</td>\n",
              "      <td>4.459874</td>\n",
              "      <td>24.623054</td>\n",
              "      <td>16638.784173</td>\n",
              "      <td>126.701914</td>\n",
              "      <td>69.602878</td>\n",
              "      <td>45.097122</td>\n",
              "    </tr>\n",
              "    <tr>\n",
              "      <th>std</th>\n",
              "      <td>1.095121e+08</td>\n",
              "      <td>1.615354</td>\n",
              "      <td>4.408974</td>\n",
              "      <td>6.268349</td>\n",
              "      <td>2.209368</td>\n",
              "      <td>19207.299083</td>\n",
              "      <td>4.471997</td>\n",
              "      <td>9.122189</td>\n",
              "      <td>45.724667</td>\n",
              "    </tr>\n",
              "    <tr>\n",
              "      <th>min</th>\n",
              "      <td>2.773150e+05</td>\n",
              "      <td>1.280000</td>\n",
              "      <td>0.060000</td>\n",
              "      <td>0.008618</td>\n",
              "      <td>20.397420</td>\n",
              "      <td>588.000000</td>\n",
              "      <td>117.375500</td>\n",
              "      <td>45.200000</td>\n",
              "      <td>2.700000</td>\n",
              "    </tr>\n",
              "    <tr>\n",
              "      <th>25%</th>\n",
              "      <td>3.752776e+06</td>\n",
              "      <td>1.810000</td>\n",
              "      <td>0.100000</td>\n",
              "      <td>0.496190</td>\n",
              "      <td>22.448135</td>\n",
              "      <td>2899.000000</td>\n",
              "      <td>123.232200</td>\n",
              "      <td>62.200000</td>\n",
              "      <td>8.100000</td>\n",
              "    </tr>\n",
              "    <tr>\n",
              "      <th>50%</th>\n",
              "      <td>9.705130e+06</td>\n",
              "      <td>2.410000</td>\n",
              "      <td>0.400000</td>\n",
              "      <td>2.223796</td>\n",
              "      <td>25.156990</td>\n",
              "      <td>9938.000000</td>\n",
              "      <td>126.519600</td>\n",
              "      <td>72.000000</td>\n",
              "      <td>24.000000</td>\n",
              "    </tr>\n",
              "    <tr>\n",
              "      <th>75%</th>\n",
              "      <td>2.791973e+07</td>\n",
              "      <td>4.095000</td>\n",
              "      <td>1.300000</td>\n",
              "      <td>6.589156</td>\n",
              "      <td>26.497575</td>\n",
              "      <td>23278.500000</td>\n",
              "      <td>130.275900</td>\n",
              "      <td>76.850000</td>\n",
              "      <td>74.200000</td>\n",
              "    </tr>\n",
              "    <tr>\n",
              "      <th>max</th>\n",
              "      <td>1.197070e+09</td>\n",
              "      <td>7.590000</td>\n",
              "      <td>25.900000</td>\n",
              "      <td>48.702062</td>\n",
              "      <td>28.456980</td>\n",
              "      <td>126076.000000</td>\n",
              "      <td>135.492000</td>\n",
              "      <td>82.600000</td>\n",
              "      <td>192.000000</td>\n",
              "    </tr>\n",
              "  </tbody>\n",
              "</table>\n",
              "</div>"
            ],
            "text/plain": [
              "         population   fertility  ...        life  child_mortality\n",
              "count  1.390000e+02  139.000000  ...  139.000000       139.000000\n",
              "mean   3.549977e+07    3.005108  ...   69.602878        45.097122\n",
              "std    1.095121e+08    1.615354  ...    9.122189        45.724667\n",
              "min    2.773150e+05    1.280000  ...   45.200000         2.700000\n",
              "25%    3.752776e+06    1.810000  ...   62.200000         8.100000\n",
              "50%    9.705130e+06    2.410000  ...   72.000000        24.000000\n",
              "75%    2.791973e+07    4.095000  ...   76.850000        74.200000\n",
              "max    1.197070e+09    7.590000  ...   82.600000       192.000000\n",
              "\n",
              "[8 rows x 9 columns]"
            ]
          },
          "metadata": {},
          "execution_count": 21
        }
      ]
    },
    {
      "cell_type": "markdown",
      "metadata": {
        "id": "a4d2388a"
      },
      "source": [
        "## Select Target and Feature Variable\n",
        "\n",
        "This is a simple linear regression, so we are going to use only two variables. Suppose you wish to predict life expectancy in a given country using one variable such as GDP, fertility rate, or population. \n",
        "\n",
        "Before selecting the condidate input variable, we will plot a heatmap on the correlation matrix of dataset, then we select to highly correlated variable with the target, which will be __life__\n",
        "\n",
        "### This section is done for you. "
      ],
      "id": "a4d2388a"
    },
    {
      "cell_type": "code",
      "metadata": {
        "colab": {
          "base_uri": "https://localhost:8080/",
          "height": 579
        },
        "id": "bf44489f",
        "outputId": "96d246d1-1b4c-41d0-d059-77b6ebae958e"
      },
      "source": [
        "# Setting the figure size \n",
        "sns.set(rc={'figure.figsize':(10,8)})\n",
        "sns.heatmap(data.corr(), cmap='RdYlBu', square=True)"
      ],
      "id": "bf44489f",
      "execution_count": 22,
      "outputs": [
        {
          "output_type": "execute_result",
          "data": {
            "text/plain": [
              "<matplotlib.axes._subplots.AxesSubplot at 0x7f534fa19990>"
            ]
          },
          "metadata": {},
          "execution_count": 22
        },
        {
          "output_type": "display_data",
          "data": {
            "image/png": "[encoded data removed]",
            "text/plain": [
              "<Figure size 720x576 with 2 Axes>"
            ]
          },
          "metadata": {}
        }
      ]
    },
    {
      "cell_type": "markdown",
      "metadata": {
        "id": "a4791aad"
      },
      "source": [
        "From the headmap, the highly negatively correlated variable is __fertility__, which the one you are going to use to build your model. So:\n",
        "\n",
        "Target is: __life__\n",
        "\n",
        "Input is: __fertility__"
      ],
      "id": "a4791aad"
    },
    {
      "cell_type": "code",
      "metadata": {
        "id": "185ba741"
      },
      "source": [
        "# Rename life as y\n",
        "y=df['life']"
      ],
      "id": "185ba741",
      "execution_count": 42,
      "outputs": []
    },
    {
      "cell_type": "code",
      "metadata": {
        "id": "8c123580"
      },
      "source": [
        "# Rename the input variable as X\n",
        "X=df['fertility']"
      ],
      "id": "8c123580",
      "execution_count": 46,
      "outputs": []
    },
    {
      "cell_type": "code",
      "metadata": {
        "colab": {
          "base_uri": "https://localhost:8080/"
        },
        "id": "334d3398",
        "outputId": "9c104a8e-1ffe-45bf-9e46-dd5f37f191ed"
      },
      "source": [
        "# Check the shape of y\n",
        "print(\"The shape of the target variable is :\",y.shape )\n"
      ],
      "id": "334d3398",
      "execution_count": 43,
      "outputs": [
        {
          "output_type": "stream",
          "name": "stdout",
          "text": [
            "The shape of the target variable is : (139,)\n"
          ]
        }
      ]
    },
    {
      "cell_type": "code",
      "metadata": {
        "colab": {
          "base_uri": "https://localhost:8080/"
        },
        "id": "2cf4d6df",
        "outputId": "83967ffd-780c-429e-ea88-0c99bb8bf7fd"
      },
      "source": [
        "# Check the shape of X\n",
        "print(\"The shape of the input variable is :\",X.shape)"
      ],
      "id": "2cf4d6df",
      "execution_count": 47,
      "outputs": [
        {
          "output_type": "stream",
          "name": "stdout",
          "text": [
            "The shape of the input variable is : (139,)\n"
          ]
        }
      ]
    },
    {
      "cell_type": "markdown",
      "metadata": {
        "id": "86c71285"
      },
      "source": [
        "As we have seen in the lecture, we have to reshape a 1D array into a 2D array using reshape() function "
      ],
      "id": "86c71285"
    },
    {
      "cell_type": "code",
      "metadata": {
        "id": "8df228a0"
      },
      "source": [
        "# reshape the target variable y\n",
        "y_reshaped=np.array(y).reshape(-1,1)"
      ],
      "id": "8df228a0",
      "execution_count": 48,
      "outputs": []
    },
    {
      "cell_type": "code",
      "metadata": {
        "id": "cc7a55b2"
      },
      "source": [
        "# reshape the input variable X\n",
        "X_reshaped=np.array(X).reshape(-1,1)"
      ],
      "id": "cc7a55b2",
      "execution_count": 49,
      "outputs": []
    },
    {
      "cell_type": "code",
      "metadata": {
        "colab": {
          "base_uri": "https://localhost:8080/"
        },
        "id": "1c4195cf",
        "outputId": "939f3a4c-6636-461d-ebe3-03a2d1ac7011"
      },
      "source": [
        "# print the new shape y\n",
        "y_reshaped.shape"
      ],
      "id": "1c4195cf",
      "execution_count": 50,
      "outputs": [
        {
          "output_type": "execute_result",
          "data": {
            "text/plain": [
              "(139, 1)"
            ]
          },
          "metadata": {},
          "execution_count": 50
        }
      ]
    },
    {
      "cell_type": "code",
      "metadata": {
        "colab": {
          "base_uri": "https://localhost:8080/"
        },
        "id": "53863bd8",
        "outputId": "b7d37125-5ba5-444a-982a-c4c300fe0fc6"
      },
      "source": [
        "# print the new shape of X\n",
        "X_reshaped.shape"
      ],
      "id": "53863bd8",
      "execution_count": 51,
      "outputs": [
        {
          "output_type": "execute_result",
          "data": {
            "text/plain": [
              "(139, 1)"
            ]
          },
          "metadata": {},
          "execution_count": 51
        }
      ]
    },
    {
      "cell_type": "markdown",
      "metadata": {
        "id": "8cf526ff"
      },
      "source": [
        "### Plotting\n",
        "\n",
        "Plot a scatter plot of the variables life and fertility."
      ],
      "id": "8cf526ff"
    },
    {
      "cell_type": "code",
      "metadata": {
        "colab": {
          "base_uri": "https://localhost:8080/",
          "height": 518
        },
        "id": "ef8b0569",
        "outputId": "8661a139-cfac-45e3-b2ea-f09049a5a6eb"
      },
      "source": [
        "# plot scatter plot \n",
        "plt.scatter(X,y,color='blue',alpha=1)\n",
        "plt.xlabel(\"fertility\")\n",
        "plt.ylabel(\"life\")\n",
        "plt.title(\"figure of life as a function of fertility\")\n",
        "plt.show()\n"
      ],
      "id": "ef8b0569",
      "execution_count": 79,
      "outputs": [
        {
          "output_type": "display_data",
          "data": {
            "image/png": "[encoded data removed]",
            "text/plain": [
              "<Figure size 720x576 with 1 Axes>"
            ]
          },
          "metadata": {}
        }
      ]
    },
    {
      "cell_type": "markdown",
      "metadata": {
        "id": "6d468ca0"
      },
      "source": [
        "Ovely a fitted line on the plot using `lmplot` from seaborn package. "
      ],
      "id": "6d468ca0"
    },
    {
      "cell_type": "code",
      "metadata": {
        "colab": {
          "base_uri": "https://localhost:8080/",
          "height": 382
        },
        "id": "3736ae41",
        "outputId": "dda2f97f-f6e3-4ae2-b4a1-7bd055835345"
      },
      "source": [
        "# plot linear regression plot.\n",
        "sns.lmplot(x='fertility', y='life',data=df)"
      ],
      "id": "3736ae41",
      "execution_count": 80,
      "outputs": [
        {
          "output_type": "execute_result",
          "data": {
            "text/plain": [
              "<seaborn.axisgrid.FacetGrid at 0x7f534ede3fd0>"
            ]
          },
          "metadata": {},
          "execution_count": 80
        },
        {
          "output_type": "display_data",
          "data": {
            "image/png": "[encoded data removed]",
            "text/plain": [
              "<Figure size 360x360 with 1 Axes>"
            ]
          },
          "metadata": {}
        }
      ]
    },
    {
      "cell_type": "markdown",
      "metadata": {
        "id": "b3b04475"
      },
      "source": [
        "### Building a  Linear Regression Model\n",
        "\n",
        "1. Import LinearRegression from sklearn\n",
        "2. Create an lm object\n",
        "3. Fit the model\n",
        "4. Print the model parameters\n",
        "5. Print the score of the model\n",
        "6. predict on the same data"
      ],
      "id": "b3b04475"
    },
    {
      "cell_type": "code",
      "metadata": {
        "id": "e7bc2800"
      },
      "source": [
        "# Import LinearRegression() from sklearn.linear_model\n",
        "from sklearn.linear_model import LinearRegression"
      ],
      "id": "e7bc2800",
      "execution_count": 81,
      "outputs": []
    },
    {
      "cell_type": "code",
      "metadata": {
        "id": "87ee6418"
      },
      "source": [
        "# Create lm object\n",
        "lm=LinearRegression()"
      ],
      "id": "87ee6418",
      "execution_count": 91,
      "outputs": []
    },
    {
      "cell_type": "code",
      "metadata": {
        "colab": {
          "base_uri": "https://localhost:8080/"
        },
        "id": "2490ee49",
        "outputId": "570b8c14-a1c3-4ed4-a1a9-bcf3b6d11a90"
      },
      "source": [
        "# fit the linear model\n",
        "lm.fit(X_reshaped, y_reshaped)"
      ],
      "id": "2490ee49",
      "execution_count": 92,
      "outputs": [
        {
          "output_type": "execute_result",
          "data": {
            "text/plain": [
              "LinearRegression(copy_X=True, fit_intercept=True, n_jobs=None, normalize=False)"
            ]
          },
          "metadata": {},
          "execution_count": 92
        }
      ]
    },
    {
      "cell_type": "code",
      "metadata": {
        "colab": {
          "base_uri": "https://localhost:8080/"
        },
        "id": "9bcbc4c9",
        "outputId": "ea768774-1d93-4366-90ec-0ac1a7d39cc3"
      },
      "source": [
        "# Print the intercept \n",
        "print(\"The model intercept is: \",lm.intercept_)"
      ],
      "id": "9bcbc4c9",
      "execution_count": 94,
      "outputs": [
        {
          "output_type": "stream",
          "name": "stdout",
          "text": [
            "The model intercept is:  [82.95721362]\n"
          ]
        }
      ]
    },
    {
      "cell_type": "code",
      "metadata": {
        "colab": {
          "base_uri": "https://localhost:8080/"
        },
        "id": "567d40e2",
        "outputId": "54a28da9-1793-4c91-b15b-b068b7f734ff"
      },
      "source": [
        "# Print the coef \n",
        "print(\"The model parameter is: \",lm.coef_)"
      ],
      "id": "567d40e2",
      "execution_count": 95,
      "outputs": [
        {
          "output_type": "stream",
          "name": "stdout",
          "text": [
            "The model parameter is:  [[-4.44387899]]\n"
          ]
        }
      ]
    },
    {
      "cell_type": "code",
      "metadata": {
        "colab": {
          "base_uri": "https://localhost:8080/"
        },
        "id": "7872d528",
        "outputId": "6c5ce4a0-da1b-41aa-df21-09fd905f26c6"
      },
      "source": [
        "# Print the Godness-of-fit metric \n",
        "print(\"The coefficient of determination is: {:0.3f}\".format(lm.score(X_reshaped,y_reshaped)))"
      ],
      "id": "7872d528",
      "execution_count": 104,
      "outputs": [
        {
          "output_type": "stream",
          "name": "stdout",
          "text": [
            "The coefficient of determination is: 0.619\n"
          ]
        }
      ]
    },
    {
      "cell_type": "code",
      "metadata": {
        "id": "ab3ca2ac"
      },
      "source": [
        "# Predict on the data\n",
        "y_pred=lm.predict(X_reshaped)"
      ],
      "id": "ab3ca2ac",
      "execution_count": 105,
      "outputs": []
    },
    {
      "cell_type": "code",
      "metadata": {
        "colab": {
          "base_uri": "https://localhost:8080/",
          "height": 485
        },
        "id": "4a6dd776",
        "outputId": "cb4df650-c78b-43e3-eb7b-1cc5a15d2d6c"
      },
      "source": [
        "# Plot the fitted line on top of the scatter plot\n",
        "plt.scatter(X,y,color='blue',alpha=1)\n",
        "plt.plot(X_reshaped,y_pred,color='red',linewidth=5)\n",
        "plt.show()"
      ],
      "id": "4a6dd776",
      "execution_count": 107,
      "outputs": [
        {
          "output_type": "display_data",
          "data": {
            "image/png": "[encoded data removed]",
            "text/plain": [
              "<Figure size 720x576 with 1 Axes>"
            ]
          },
          "metadata": {}
        }
      ]
    }
  ]
}