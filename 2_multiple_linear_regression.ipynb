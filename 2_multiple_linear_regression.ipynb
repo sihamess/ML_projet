{
  "nbformat": 4,
  "nbformat_minor": 0,
  "metadata": {
    "colab": {
      "name": "2_Multiple_Linear_Regression.ipynb",
      "provenance": [],
      "collapsed_sections": []
    },
    "kernelspec": {
      "name": "python3",
      "display_name": "Python 3"
    },
    "language_info": {
      "name": "python"
    }
  },
  "cells": [
    {
      "cell_type": "markdown",
      "metadata": {
        "id": "EMzbTNnUinUU"
      },
      "source": [
        "# **Multiple Linear Regression with Python**"
      ]
    },
    {
      "cell_type": "markdown",
      "metadata": {
        "id": "Idi3IdakiycV"
      },
      "source": [
        "Importing dependecies"
      ]
    },
    {
      "cell_type": "code",
      "metadata": {
        "id": "g8YIr2QkimW2"
      },
      "source": [
        "import pandas as pd\n",
        "import numpy as np\n",
        "import matplotlib.pyplot as plt\n",
        "import seaborn as sns\n",
        "%matplotlib inline\n"
      ],
      "execution_count": 112,
      "outputs": []
    },
    {
      "cell_type": "markdown",
      "metadata": {
        "id": "mVS9KPcPlNml"
      },
      "source": [
        "**Data Collection and Analysis**\n",
        "\n",
        "Import the dataset"
      ]
    },
    {
      "cell_type": "code",
      "metadata": {
        "id": "KELzG0Kcisu7"
      },
      "source": [
        "# use pd.read_csv() to import the data\n",
        "df=pd.read_csv(\"/content/housing.csv\")"
      ],
      "execution_count": 113,
      "outputs": []
    },
    {
      "cell_type": "code",
      "metadata": {
        "colab": {
          "base_uri": "https://localhost:8080/",
          "height": 276
        },
        "id": "V4104lrcs6T6",
        "outputId": "fd17770f-de9e-4576-d1dc-f9681014f227"
      },
      "source": [
        "# printing the first 5 rows of the dataset\n",
        "df.head()"
      ],
      "execution_count": 114,
      "outputs": [
        {
          "output_type": "execute_result",
          "data": {
            "text/html": [
              "<div>\n",
              "<style scoped>\n",
              "    .dataframe tbody tr th:only-of-type {\n",
              "        vertical-align: middle;\n",
              "    }\n",
              "\n",
              "    .dataframe tbody tr th {\n",
              "        vertical-align: top;\n",
              "    }\n",
              "\n",
              "    .dataframe thead th {\n",
              "        text-align: right;\n",
              "    }\n",
              "</style>\n",
              "<table border=\"1\" class=\"dataframe\">\n",
              "  <thead>\n",
              "    <tr style=\"text-align: right;\">\n",
              "      <th></th>\n",
              "      <th>Avg. Area Income</th>\n",
              "      <th>Avg. Area House Age</th>\n",
              "      <th>Avg. Area Number of Rooms</th>\n",
              "      <th>Avg. Area Number of Bedrooms</th>\n",
              "      <th>Area Population</th>\n",
              "      <th>Price</th>\n",
              "      <th>Address</th>\n",
              "    </tr>\n",
              "  </thead>\n",
              "  <tbody>\n",
              "    <tr>\n",
              "      <th>0</th>\n",
              "      <td>79545.458574</td>\n",
              "      <td>5.682861</td>\n",
              "      <td>7.009188</td>\n",
              "      <td>4.09</td>\n",
              "      <td>23086.800503</td>\n",
              "      <td>1.059034e+06</td>\n",
              "      <td>208 Michael Ferry Apt. 674\\nLaurabury, NE 3701...</td>\n",
              "    </tr>\n",
              "    <tr>\n",
              "      <th>1</th>\n",
              "      <td>79248.642455</td>\n",
              "      <td>6.002900</td>\n",
              "      <td>6.730821</td>\n",
              "      <td>3.09</td>\n",
              "      <td>40173.072174</td>\n",
              "      <td>1.505891e+06</td>\n",
              "      <td>188 Johnson Views Suite 079\\nLake Kathleen, CA...</td>\n",
              "    </tr>\n",
              "    <tr>\n",
              "      <th>2</th>\n",
              "      <td>61287.067179</td>\n",
              "      <td>5.865890</td>\n",
              "      <td>8.512727</td>\n",
              "      <td>5.13</td>\n",
              "      <td>36882.159400</td>\n",
              "      <td>1.058988e+06</td>\n",
              "      <td>9127 Elizabeth Stravenue\\nDanieltown, WI 06482...</td>\n",
              "    </tr>\n",
              "    <tr>\n",
              "      <th>3</th>\n",
              "      <td>63345.240046</td>\n",
              "      <td>7.188236</td>\n",
              "      <td>5.586729</td>\n",
              "      <td>3.26</td>\n",
              "      <td>34310.242831</td>\n",
              "      <td>1.260617e+06</td>\n",
              "      <td>USS Barnett\\nFPO AP 44820</td>\n",
              "    </tr>\n",
              "    <tr>\n",
              "      <th>4</th>\n",
              "      <td>59982.197226</td>\n",
              "      <td>5.040555</td>\n",
              "      <td>7.839388</td>\n",
              "      <td>4.23</td>\n",
              "      <td>26354.109472</td>\n",
              "      <td>6.309435e+05</td>\n",
              "      <td>USNS Raymond\\nFPO AE 09386</td>\n",
              "    </tr>\n",
              "  </tbody>\n",
              "</table>\n",
              "</div>"
            ],
            "text/plain": [
              "   Avg. Area Income  ...                                            Address\n",
              "0      79545.458574  ...  208 Michael Ferry Apt. 674\\nLaurabury, NE 3701...\n",
              "1      79248.642455  ...  188 Johnson Views Suite 079\\nLake Kathleen, CA...\n",
              "2      61287.067179  ...  9127 Elizabeth Stravenue\\nDanieltown, WI 06482...\n",
              "3      63345.240046  ...                          USS Barnett\\nFPO AP 44820\n",
              "4      59982.197226  ...                         USNS Raymond\\nFPO AE 09386\n",
              "\n",
              "[5 rows x 7 columns]"
            ]
          },
          "metadata": {},
          "execution_count": 114
        }
      ]
    },
    {
      "cell_type": "code",
      "metadata": {
        "colab": {
          "base_uri": "https://localhost:8080/"
        },
        "id": "3WIbnt1nisxR",
        "outputId": "f897bc76-4dfc-41df-f3c8-b4330c7418f0"
      },
      "source": [
        "# number of rows and Columns in this dataset\n",
        "df.shape"
      ],
      "execution_count": 115,
      "outputs": [
        {
          "output_type": "execute_result",
          "data": {
            "text/plain": [
              "(5000, 7)"
            ]
          },
          "metadata": {},
          "execution_count": 115
        }
      ]
    },
    {
      "cell_type": "code",
      "metadata": {
        "colab": {
          "base_uri": "https://localhost:8080/",
          "height": 300
        },
        "id": "LGaHowpJisz2",
        "outputId": "1d32fbd8-044f-4e12-b565-9e4f1f47ba48"
      },
      "source": [
        "# getting the statistical measures of the data\n",
        "df.describe()"
      ],
      "execution_count": 116,
      "outputs": [
        {
          "output_type": "execute_result",
          "data": {
            "text/html": [
              "<div>\n",
              "<style scoped>\n",
              "    .dataframe tbody tr th:only-of-type {\n",
              "        vertical-align: middle;\n",
              "    }\n",
              "\n",
              "    .dataframe tbody tr th {\n",
              "        vertical-align: top;\n",
              "    }\n",
              "\n",
              "    .dataframe thead th {\n",
              "        text-align: right;\n",
              "    }\n",
              "</style>\n",
              "<table border=\"1\" class=\"dataframe\">\n",
              "  <thead>\n",
              "    <tr style=\"text-align: right;\">\n",
              "      <th></th>\n",
              "      <th>Avg. Area Income</th>\n",
              "      <th>Avg. Area House Age</th>\n",
              "      <th>Avg. Area Number of Rooms</th>\n",
              "      <th>Avg. Area Number of Bedrooms</th>\n",
              "      <th>Area Population</th>\n",
              "      <th>Price</th>\n",
              "    </tr>\n",
              "  </thead>\n",
              "  <tbody>\n",
              "    <tr>\n",
              "      <th>count</th>\n",
              "      <td>5000.000000</td>\n",
              "      <td>5000.000000</td>\n",
              "      <td>5000.000000</td>\n",
              "      <td>5000.000000</td>\n",
              "      <td>5000.000000</td>\n",
              "      <td>5.000000e+03</td>\n",
              "    </tr>\n",
              "    <tr>\n",
              "      <th>mean</th>\n",
              "      <td>68583.108984</td>\n",
              "      <td>5.977222</td>\n",
              "      <td>6.987792</td>\n",
              "      <td>3.981330</td>\n",
              "      <td>36163.516039</td>\n",
              "      <td>1.232073e+06</td>\n",
              "    </tr>\n",
              "    <tr>\n",
              "      <th>std</th>\n",
              "      <td>10657.991214</td>\n",
              "      <td>0.991456</td>\n",
              "      <td>1.005833</td>\n",
              "      <td>1.234137</td>\n",
              "      <td>9925.650114</td>\n",
              "      <td>3.531176e+05</td>\n",
              "    </tr>\n",
              "    <tr>\n",
              "      <th>min</th>\n",
              "      <td>17796.631190</td>\n",
              "      <td>2.644304</td>\n",
              "      <td>3.236194</td>\n",
              "      <td>2.000000</td>\n",
              "      <td>172.610686</td>\n",
              "      <td>1.593866e+04</td>\n",
              "    </tr>\n",
              "    <tr>\n",
              "      <th>25%</th>\n",
              "      <td>61480.562388</td>\n",
              "      <td>5.322283</td>\n",
              "      <td>6.299250</td>\n",
              "      <td>3.140000</td>\n",
              "      <td>29403.928702</td>\n",
              "      <td>9.975771e+05</td>\n",
              "    </tr>\n",
              "    <tr>\n",
              "      <th>50%</th>\n",
              "      <td>68804.286404</td>\n",
              "      <td>5.970429</td>\n",
              "      <td>7.002902</td>\n",
              "      <td>4.050000</td>\n",
              "      <td>36199.406689</td>\n",
              "      <td>1.232669e+06</td>\n",
              "    </tr>\n",
              "    <tr>\n",
              "      <th>75%</th>\n",
              "      <td>75783.338666</td>\n",
              "      <td>6.650808</td>\n",
              "      <td>7.665871</td>\n",
              "      <td>4.490000</td>\n",
              "      <td>42861.290769</td>\n",
              "      <td>1.471210e+06</td>\n",
              "    </tr>\n",
              "    <tr>\n",
              "      <th>max</th>\n",
              "      <td>107701.748378</td>\n",
              "      <td>9.519088</td>\n",
              "      <td>10.759588</td>\n",
              "      <td>6.500000</td>\n",
              "      <td>69621.713378</td>\n",
              "      <td>2.469066e+06</td>\n",
              "    </tr>\n",
              "  </tbody>\n",
              "</table>\n",
              "</div>"
            ],
            "text/plain": [
              "       Avg. Area Income  Avg. Area House Age  ...  Area Population         Price\n",
              "count       5000.000000          5000.000000  ...      5000.000000  5.000000e+03\n",
              "mean       68583.108984             5.977222  ...     36163.516039  1.232073e+06\n",
              "std        10657.991214             0.991456  ...      9925.650114  3.531176e+05\n",
              "min        17796.631190             2.644304  ...       172.610686  1.593866e+04\n",
              "25%        61480.562388             5.322283  ...     29403.928702  9.975771e+05\n",
              "50%        68804.286404             5.970429  ...     36199.406689  1.232669e+06\n",
              "75%        75783.338666             6.650808  ...     42861.290769  1.471210e+06\n",
              "max       107701.748378             9.519088  ...     69621.713378  2.469066e+06\n",
              "\n",
              "[8 rows x 6 columns]"
            ]
          },
          "metadata": {},
          "execution_count": 116
        }
      ]
    },
    {
      "cell_type": "code",
      "metadata": {
        "colab": {
          "base_uri": "https://localhost:8080/"
        },
        "id": "RPEwNyAAis2b",
        "outputId": "3485e990-43bb-4b0b-ff46-b3c33a070c5a"
      },
      "source": [
        "#chiking the missing values in dataset\n",
        "df.isnull().sum()"
      ],
      "execution_count": 117,
      "outputs": [
        {
          "output_type": "execute_result",
          "data": {
            "text/plain": [
              "Avg. Area Income                0\n",
              "Avg. Area House Age             0\n",
              "Avg. Area Number of Rooms       0\n",
              "Avg. Area Number of Bedrooms    0\n",
              "Area Population                 0\n",
              "Price                           0\n",
              "Address                         0\n",
              "dtype: int64"
            ]
          },
          "metadata": {},
          "execution_count": 117
        }
      ]
    },
    {
      "cell_type": "markdown",
      "metadata": {
        "id": "FlWsPxkauEDD"
      },
      "source": [
        "So there is no missing value in this dataset"
      ]
    },
    {
      "cell_type": "code",
      "metadata": {
        "id": "51SkA8qFis74"
      },
      "source": [
        "#spliting the data into features and target\n",
        "X=df.drop(columns=['Price','Address'],axis=1)\n",
        "y=df['Price']"
      ],
      "execution_count": 118,
      "outputs": []
    },
    {
      "cell_type": "markdown",
      "metadata": {
        "id": "rDnCzFcNDrSb"
      },
      "source": [
        "** Data Modeling **"
      ]
    },
    {
      "cell_type": "code",
      "metadata": {
        "id": "q7nhYy22itAH"
      },
      "source": [
        "# Create a linear regression object\n",
        "df_reg=LinearRegression()"
      ],
      "execution_count": 119,
      "outputs": []
    },
    {
      "cell_type": "code",
      "metadata": {
        "id": "k36l2_gFitC3",
        "colab": {
          "base_uri": "https://localhost:8080/"
        },
        "outputId": "bbffaab5-e203-42c0-83ba-29698d2b4644"
      },
      "source": [
        "type(df_reg)"
      ],
      "execution_count": 120,
      "outputs": [
        {
          "output_type": "execute_result",
          "data": {
            "text/plain": [
              "sklearn.linear_model._base.LinearRegression"
            ]
          },
          "metadata": {},
          "execution_count": 120
        }
      ]
    },
    {
      "cell_type": "markdown",
      "metadata": {
        "id": "x2A89IwuUR3L"
      },
      "source": [
        "Fitting the model"
      ]
    },
    {
      "cell_type": "code",
      "metadata": {
        "id": "yWMTFV1SitFJ",
        "colab": {
          "base_uri": "https://localhost:8080/"
        },
        "outputId": "4e1a3b7a-c48b-4b16-a701-c7d63b46c76c"
      },
      "source": [
        "df_reg.fit(X,y)"
      ],
      "execution_count": 121,
      "outputs": [
        {
          "output_type": "execute_result",
          "data": {
            "text/plain": [
              "LinearRegression()"
            ]
          },
          "metadata": {},
          "execution_count": 121
        }
      ]
    },
    {
      "cell_type": "markdown",
      "metadata": {
        "id": "30U14v3IUdFt"
      },
      "source": [
        "Cheking the parameters"
      ]
    },
    {
      "cell_type": "code",
      "metadata": {
        "id": "mUzkH-rMitH5",
        "colab": {
          "base_uri": "https://localhost:8080/"
        },
        "outputId": "75f42b4e-051c-4bcd-a293-40e877dde82c"
      },
      "source": [
        "print(\"the model intercept value is {:.3f}\".format(df_reg.intercept_))"
      ],
      "execution_count": 122,
      "outputs": [
        {
          "output_type": "stream",
          "name": "stdout",
          "text": [
            "the model intercept value is -2637299.033\n"
          ]
        }
      ]
    },
    {
      "cell_type": "code",
      "metadata": {
        "id": "b0TzobDoitKV",
        "colab": {
          "base_uri": "https://localhost:8080/"
        },
        "outputId": "943ade1c-a0c0-4ac2-8697-88abb5c845dc"
      },
      "source": [
        "# zipping coefficients with their names\n",
        "list(zip(df.columns[1:],df_reg.coef_))"
      ],
      "execution_count": 123,
      "outputs": [
        {
          "output_type": "execute_result",
          "data": {
            "text/plain": [
              "[('Avg. Area House Age', 21.57804944834946),\n",
              " ('Avg. Area Number of Rooms', 165637.0269408715),\n",
              " ('Avg. Area Number of Bedrooms', 120659.94881629439),\n",
              " ('Area Population', 1651.139054028224),\n",
              " ('Price', 15.200743923749542)]"
            ]
          },
          "metadata": {},
          "execution_count": 123
        }
      ]
    },
    {
      "cell_type": "code",
      "metadata": {
        "id": "qG1kl9ZRitMx",
        "colab": {
          "base_uri": "https://localhost:8080/"
        },
        "outputId": "6a61b391-56f5-4670-efa7-3b67b7ec6eb4"
      },
      "source": [
        "# print the parameters \n",
        "for var,coef in list(zip(df.columns[1:], df_reg.coef_)):\n",
        "    print(\"The {0:7s} coefficient is : {1:8.4f}\".format(var,coef))"
      ],
      "execution_count": 124,
      "outputs": [
        {
          "output_type": "stream",
          "name": "stdout",
          "text": [
            "The Avg. Area House Age coefficient is :  21.5780\n",
            "The Avg. Area Number of Rooms coefficient is : 165637.0269\n",
            "The Avg. Area Number of Bedrooms coefficient is : 120659.9488\n",
            "The Area Population coefficient is : 1651.1391\n",
            "The Price   coefficient is :  15.2007\n"
          ]
        }
      ]
    },
    {
      "cell_type": "code",
      "metadata": {
        "id": "k33a-KiWitPW",
        "colab": {
          "base_uri": "https://localhost:8080/",
          "height": 206
        },
        "outputId": "1c386ed2-8aa5-4366-8c53-a6752b71a644"
      },
      "source": [
        "results =pd.DataFrame(list(zip(df.columns[1:],df_reg.coef_)),\n",
        "                      columns=[\"Variable\",\"Coefficient\"])\n",
        "results"
      ],
      "execution_count": 125,
      "outputs": [
        {
          "output_type": "execute_result",
          "data": {
            "text/html": [
              "<div>\n",
              "<style scoped>\n",
              "    .dataframe tbody tr th:only-of-type {\n",
              "        vertical-align: middle;\n",
              "    }\n",
              "\n",
              "    .dataframe tbody tr th {\n",
              "        vertical-align: top;\n",
              "    }\n",
              "\n",
              "    .dataframe thead th {\n",
              "        text-align: right;\n",
              "    }\n",
              "</style>\n",
              "<table border=\"1\" class=\"dataframe\">\n",
              "  <thead>\n",
              "    <tr style=\"text-align: right;\">\n",
              "      <th></th>\n",
              "      <th>Variable</th>\n",
              "      <th>Coefficient</th>\n",
              "    </tr>\n",
              "  </thead>\n",
              "  <tbody>\n",
              "    <tr>\n",
              "      <th>0</th>\n",
              "      <td>Avg. Area House Age</td>\n",
              "      <td>21.578049</td>\n",
              "    </tr>\n",
              "    <tr>\n",
              "      <th>1</th>\n",
              "      <td>Avg. Area Number of Rooms</td>\n",
              "      <td>165637.026941</td>\n",
              "    </tr>\n",
              "    <tr>\n",
              "      <th>2</th>\n",
              "      <td>Avg. Area Number of Bedrooms</td>\n",
              "      <td>120659.948816</td>\n",
              "    </tr>\n",
              "    <tr>\n",
              "      <th>3</th>\n",
              "      <td>Area Population</td>\n",
              "      <td>1651.139054</td>\n",
              "    </tr>\n",
              "    <tr>\n",
              "      <th>4</th>\n",
              "      <td>Price</td>\n",
              "      <td>15.200744</td>\n",
              "    </tr>\n",
              "  </tbody>\n",
              "</table>\n",
              "</div>"
            ],
            "text/plain": [
              "                       Variable    Coefficient\n",
              "0           Avg. Area House Age      21.578049\n",
              "1     Avg. Area Number of Rooms  165637.026941\n",
              "2  Avg. Area Number of Bedrooms  120659.948816\n",
              "3               Area Population    1651.139054\n",
              "4                         Price      15.200744"
            ]
          },
          "metadata": {},
          "execution_count": 125
        }
      ]
    },
    {
      "cell_type": "markdown",
      "metadata": {
        "id": "JMOoe1bmZYnN"
      },
      "source": [
        "Prediction"
      ]
    },
    {
      "cell_type": "code",
      "metadata": {
        "id": "XUXXheRaitR-"
      },
      "source": [
        "#prediction\n",
        "y_pred=df_reg.predict(X)"
      ],
      "execution_count": 126,
      "outputs": []
    },
    {
      "cell_type": "markdown",
      "metadata": {
        "id": "2IYeF5iDZjEu"
      },
      "source": [
        "Model Performance"
      ]
    },
    {
      "cell_type": "code",
      "metadata": {
        "id": "m7HwTytditUY"
      },
      "source": [
        "from sklearn.metrics import r2_score, mean_squared_error,mean_absolute_error"
      ],
      "execution_count": 127,
      "outputs": []
    },
    {
      "cell_type": "code",
      "metadata": {
        "id": "_UlfZI1gitX1",
        "colab": {
          "base_uri": "https://localhost:8080/"
        },
        "outputId": "0b109115-f565-42b9-afe8-17952b73fd90"
      },
      "source": [
        "# print the R^2\n",
        "print(\"R^2(Cofficient of determination):{:4.4f}\".format(r2_score(y,y_pred)))"
      ],
      "execution_count": 128,
      "outputs": [
        {
          "output_type": "stream",
          "name": "stdout",
          "text": [
            "R^2(Cofficient of determination):0.9180\n"
          ]
        }
      ]
    },
    {
      "cell_type": "code",
      "metadata": {
        "id": "jm2HIywxitgH",
        "colab": {
          "base_uri": "https://localhost:8080/"
        },
        "outputId": "fba185ab-8d1f-4674-aa1b-c4252e17f3e1"
      },
      "source": [
        "# The mean squared error\n",
        "print(\"mean squared error:{:4.4f}\".format(mean_squared_error(y,y_pred)))"
      ],
      "execution_count": 129,
      "outputs": [
        {
          "output_type": "stream",
          "name": "stdout",
          "text": [
            "mean squared error:10219734313.2530\n"
          ]
        }
      ]
    },
    {
      "cell_type": "code",
      "metadata": {
        "colab": {
          "base_uri": "https://localhost:8080/"
        },
        "id": "cxQM_GzJcsDR",
        "outputId": "31a6f682-46d9-4a1a-b20e-79bf99ef2ac7"
      },
      "source": [
        "# The Root Mean squared Error \n",
        "print(\"The Root Mean squared error: {:.4f}\".format(np.sqrt(mean_squared_error(y, y_pred))))"
      ],
      "execution_count": 130,
      "outputs": [
        {
          "output_type": "stream",
          "name": "stdout",
          "text": [
            "The Root Mean squared error: 101092.7016\n"
          ]
        }
      ]
    },
    {
      "cell_type": "code",
      "metadata": {
        "id": "QILPKJcCitip",
        "colab": {
          "base_uri": "https://localhost:8080/"
        },
        "outputId": "69bd1439-6c38-44b5-e1e5-cfc9108e13ce"
      },
      "source": [
        "# mean abolute error\n",
        "print(\"mean abolute error:{:4.4f}\".format(mean_absolute_error(y,y_pred)))"
      ],
      "execution_count": 131,
      "outputs": [
        {
          "output_type": "stream",
          "name": "stdout",
          "text": [
            "mean abolute error:81359.2702\n"
          ]
        }
      ]
    },
    {
      "cell_type": "markdown",
      "metadata": {
        "id": "6P694I3jetRp"
      },
      "source": [
        "# **Machine Learning Process**"
      ]
    },
    {
      "cell_type": "code",
      "metadata": {
        "id": "hJ3TRkf6itlP"
      },
      "source": [
        "from sklearn.model_selection import train_test_split"
      ],
      "execution_count": 132,
      "outputs": []
    },
    {
      "cell_type": "code",
      "metadata": {
        "id": "kLvtiNwsitn4"
      },
      "source": [
        "#Create the training and test set\n",
        "X_train,X_test,y_train,y_test=train_test_split(X,y,test_size=0.1,random_state=10123)"
      ],
      "execution_count": 133,
      "outputs": []
    },
    {
      "cell_type": "code",
      "metadata": {
        "id": "PulsE7CqitqT",
        "colab": {
          "base_uri": "https://localhost:8080/"
        },
        "outputId": "18b4d597-a223-4548-efd5-986ef14ee848"
      },
      "source": [
        "#print shape of the training and test dataset\n",
        "print(X.shape,X_train.shape,X_test.shape)\n",
        "print(y.shape,y_train.shape,y_test.shape)"
      ],
      "execution_count": 134,
      "outputs": [
        {
          "output_type": "stream",
          "name": "stdout",
          "text": [
            "(5000, 5) (4500, 5) (500, 5)\n",
            "(5000,) (4500,) (500,)\n"
          ]
        }
      ]
    },
    {
      "cell_type": "markdown",
      "metadata": {
        "id": "kjyruy4gf-DS"
      },
      "source": [
        "Model training"
      ]
    },
    {
      "cell_type": "code",
      "metadata": {
        "id": "mZygS1Jzitt0"
      },
      "source": [
        "#create a line regression object\n",
        "X_reg=LinearRegression()"
      ],
      "execution_count": 135,
      "outputs": []
    },
    {
      "cell_type": "code",
      "metadata": {
        "id": "GgCxFrsng6BN",
        "colab": {
          "base_uri": "https://localhost:8080/"
        },
        "outputId": "ea35c027-18ee-4006-eb6a-be7ac9be3c6e"
      },
      "source": [
        "#fit the model on the training set \n",
        "X_reg.fit(X_train,y_train)"
      ],
      "execution_count": 136,
      "outputs": [
        {
          "output_type": "execute_result",
          "data": {
            "text/plain": [
              "LinearRegression()"
            ]
          },
          "metadata": {},
          "execution_count": 136
        }
      ]
    },
    {
      "cell_type": "markdown",
      "metadata": {
        "id": "YY1cUS3Ige4m"
      },
      "source": [
        "Prediction"
      ]
    },
    {
      "cell_type": "code",
      "metadata": {
        "id": "DpbpQugFgaf5"
      },
      "source": [
        "#Prdict on train set\n",
        "pred_train=X_reg.predict(X_train)\n",
        "#Predict on test set\n",
        "pred_test=X_reg.predict(X_test)"
      ],
      "execution_count": 137,
      "outputs": []
    },
    {
      "cell_type": "markdown",
      "metadata": {
        "id": "xuQZ3dQuhlgT"
      },
      "source": [
        "Model Evaluation"
      ]
    },
    {
      "cell_type": "code",
      "metadata": {
        "colab": {
          "base_uri": "https://localhost:8080/"
        },
        "id": "4gXBy-NOgai3",
        "outputId": "b968ee8d-2497-47f3-9a49-80dbf383f83e"
      },
      "source": [
        "# The R^2 Score\n",
        "print(\"The R^2 on the train set is: {:.4f}\".format(r2_score(pred_train, y_train)))"
      ],
      "execution_count": 138,
      "outputs": [
        {
          "output_type": "stream",
          "name": "stdout",
          "text": [
            "The R^2 on the train set is: 0.9116\n"
          ]
        }
      ]
    },
    {
      "cell_type": "code",
      "metadata": {
        "colab": {
          "base_uri": "https://localhost:8080/"
        },
        "id": "sTgJKW8Lgamh",
        "outputId": "179613e4-4b65-442e-a284-d25cc64e47be"
      },
      "source": [
        "# The R^2 Score\n",
        "print(\"The R^2 on the test set is: {:.4f}\".format(r2_score(pred_test, y_test)))"
      ],
      "execution_count": 139,
      "outputs": [
        {
          "output_type": "stream",
          "name": "stdout",
          "text": [
            "The R^2 on the test set is: 0.9050\n"
          ]
        }
      ]
    },
    {
      "cell_type": "code",
      "metadata": {
        "colab": {
          "base_uri": "https://localhost:8080/"
        },
        "id": "SC9j1Aqbgao6",
        "outputId": "9cc0bbb7-f7cf-402c-9937-bfa3e786e478"
      },
      "source": [
        "print(\"The MSE on the train set is: {:.4f}\".\\\n",
        "      format(mean_squared_error(y_train, pred_train)))"
      ],
      "execution_count": 140,
      "outputs": [
        {
          "output_type": "stream",
          "name": "stdout",
          "text": [
            "The MSE on the train set is: 10188894743.7997\n"
          ]
        }
      ]
    },
    {
      "cell_type": "code",
      "metadata": {
        "colab": {
          "base_uri": "https://localhost:8080/"
        },
        "id": "IIqblypDgaqy",
        "outputId": "4c2b276e-92fd-48f4-fa8c-e682cca2b29d"
      },
      "source": [
        "print(\"The MSE on the test set is: {:.4f}\".\\\n",
        "      format(mean_squared_error(y_test, pred_test)))"
      ],
      "execution_count": 141,
      "outputs": [
        {
          "output_type": "stream",
          "name": "stdout",
          "text": [
            "The MSE on the test set is: 10510226936.6937\n"
          ]
        }
      ]
    },
    {
      "cell_type": "code",
      "metadata": {
        "colab": {
          "base_uri": "https://localhost:8080/"
        },
        "id": "b99oT07egask",
        "outputId": "ae6c671a-8786-46de-fffd-47f8dcff15d7"
      },
      "source": [
        "print(\"The RMSE on the train set is: {:.4f}\".\\\n",
        "      format(np.sqrt(mean_squared_error(y_train, pred_train))))"
      ],
      "execution_count": 142,
      "outputs": [
        {
          "output_type": "stream",
          "name": "stdout",
          "text": [
            "The RMSE on the train set is: 100940.0552\n"
          ]
        }
      ]
    },
    {
      "cell_type": "code",
      "metadata": {
        "colab": {
          "base_uri": "https://localhost:8080/"
        },
        "id": "C1KSRzxEgauz",
        "outputId": "27eda6d0-0ed2-483d-b14e-2686db2b72f7"
      },
      "source": [
        "print(\"The RMSE on the test set is: {:.4f}\".\\\n",
        "      format(np.sqrt(mean_squared_error(y_test, pred_test))))"
      ],
      "execution_count": 143,
      "outputs": [
        {
          "output_type": "stream",
          "name": "stdout",
          "text": [
            "The RMSE on the test set is: 102519.3979\n"
          ]
        }
      ]
    },
    {
      "cell_type": "markdown",
      "metadata": {
        "id": "qo1jsmJDiSdx"
      },
      "source": [
        "Model Diagnostics (Residual Plot)"
      ]
    },
    {
      "cell_type": "code",
      "metadata": {
        "id": "2Z0RjNAkgawV"
      },
      "source": [
        "# calculate the residuals\n",
        "resid_train = y_train - pred_train\n",
        "resid_test = y_test-pred_test"
      ],
      "execution_count": 144,
      "outputs": []
    },
    {
      "cell_type": "code",
      "metadata": {
        "colab": {
          "base_uri": "https://localhost:8080/",
          "height": 403
        },
        "id": "ZQfMTUXvgayo",
        "outputId": "49661bf7-a7a2-47e7-9af9-349d626c17d3"
      },
      "source": [
        "# Scatter plot the training data\n",
        "plt.figure(figsize= (12, 6))\n",
        "train = plt.scatter(x = pred_train, y = resid_train , c = 'b', alpha=0.5)\n",
        "\n",
        "# Scatter plot the testing data\n",
        "test = plt.scatter(pred_test, resid_test , c = 'r', alpha=0.5)\n",
        "\n",
        "# Plot a horizontal axis line at 0\n",
        "plt.hlines(y = 0, xmin = -10, xmax = 50)\n",
        "\n",
        "# Labels\n",
        "plt.legend((train, test), ('Training','Test'), loc='upper left')\n",
        "plt.title('Residual Plots')\n",
        "plt.show()"
      ],
      "execution_count": 145,
      "outputs": [
        {
          "output_type": "display_data",
          "data": {
            "image/png": "[encoded data removed]",
            "text/plain": [
              "<Figure size 864x432 with 1 Axes>"
            ]
          },
          "metadata": {
            "needs_background": "light"
          }
        }
      ]
    },
    {
      "cell_type": "code",
      "metadata": {
        "id": "rH9WbA46ga2M"
      },
      "source": [
        ""
      ],
      "execution_count": 145,
      "outputs": []
    }
  ]
}